{
 "metadata": {
  "name": "",
  "signature": "sha256:c87a36766ba1de93ca7e5b4436d43ce60a18ccf77f02a9f6e19e192d64b6642b"
 },
 "nbformat": 3,
 "nbformat_minor": 0,
 "worksheets": [
  {
   "cells": [
    {
     "cell_type": "code",
     "collapsed": false,
     "input": [
      "from pprint import pprint\n",
      "from nose.loader import TestLoader\n",
      "from nose.config import Config\n",
      "from nose.core import TextTestRunner\n",
      "from nose.plugins.collect import CollectOnly, TestSuite\n",
      "from nose.case import Test\n",
      "def traverse_recursive(suite, tests):\n",
      "    if isinstance(suite, Test):\n",
      "        tests.append(suite)\n",
      "    else:\n",
      "        for t in suite._tests:\n",
      "            traverse_recursive(t, tests)\n",
      "            \n",
      "from nose.plugins.capture import Capture\n",
      "c = Capture()\n",
      "c.start()\n",
      "\n",
      "\n",
      "NOSETESTS_DIR = \"/home/marcial/repos/flask_docker/src_panic_app/panic/tests/noses\"\n",
      "\n",
      "conf = Config()\n",
      "\n",
      "loader = TestLoader()\n",
      "\n",
      "collect = CollectOnly()\n",
      "collect.conf = conf\n",
      "collect.prepareTestLoader(loader)\n",
      "raw_tests = loader.loadTestsFromDir(NOSETESTS_DIR)\n",
      "suite = TestSuite()\n",
      "suite.addTests(raw_tests)\n",
      "\n",
      "\n",
      "tests = []\n",
      "traverse_recursive(suite, tests)\n",
      "\n",
      "suite2 = TestSuite()\n",
      "dos = tests[2]\n",
      "suite2.addTest(dos)"
     ],
     "language": "python",
     "metadata": {},
     "outputs": [],
     "prompt_number": 12
    },
    {
     "cell_type": "code",
     "collapsed": false,
     "input": [
      "c.finalize(\"a\")\n"
     ],
     "language": "python",
     "metadata": {},
     "outputs": [],
     "prompt_number": 5
    },
    {
     "cell_type": "code",
     "collapsed": false,
     "input": [
      "dos.id()"
     ],
     "language": "python",
     "metadata": {},
     "outputs": [
      {
       "metadata": {},
       "output_type": "pyout",
       "prompt_number": 16,
       "text": [
        "'test_deploy.GoAppTestCase.test_03_upload_go_app'"
       ]
      }
     ],
     "prompt_number": 16
    },
    {
     "cell_type": "code",
     "collapsed": false,
     "input": [
      "filepath, filename, testinfile = dos.address()"
     ],
     "language": "python",
     "metadata": {},
     "outputs": [],
     "prompt_number": 13
    },
    {
     "cell_type": "code",
     "collapsed": false,
     "input": [
      "filepath[len(NOSETESTS_DIR)+1:-3]"
     ],
     "language": "python",
     "metadata": {},
     "outputs": [
      {
       "metadata": {},
       "output_type": "pyout",
       "prompt_number": 20,
       "text": [
        "'test_appengine/test_deploy'"
       ]
      }
     ],
     "prompt_number": 20
    },
    {
     "cell_type": "code",
     "collapsed": false,
     "input": [
      "dos.address()"
     ],
     "language": "python",
     "metadata": {},
     "outputs": [
      {
       "metadata": {},
       "output_type": "pyout",
       "prompt_number": 17,
       "text": [
        "('/home/marcial/repos/flask_docker/src_panic_app/panic/tests/noses/test_appengine/test_deploy.py',\n",
        " 'test_deploy',\n",
        " 'GoAppTestCase.test_03_upload_go_app')"
       ]
      }
     ],
     "prompt_number": 17
    },
    {
     "cell_type": "code",
     "collapsed": false,
     "input": [
      "\n",
      "TextTestRunner().run(suite1)"
     ],
     "language": "python",
     "metadata": {},
     "outputs": [
      {
       "output_type": "stream",
       "stream": "stderr",
       "text": [
        "F"
       ]
      },
      {
       "output_type": "stream",
       "stream": "stderr",
       "text": [
        "\n",
        "======================================================================\n",
        "FAIL: test_03_faildiquesi (test_trivial01.TrivialTestCase)\n",
        "----------------------------------------------------------------------\n",
        "Traceback (most recent call last):\n",
        "  File \"/home/marcial/repos/flask_docker/src_panic_app/panic/tests/noses/trivial_tests/test_trivial01.py\", line 15, in test_03_faildiquesi\n",
        "    assert \"diqueSI\" == \"diquesi\"\n",
        "AssertionError\n",
        "\n",
        "----------------------------------------------------------------------\n",
        "Ran 1 test in 0.001s\n",
        "\n",
        "FAILED (failures=1)\n"
       ]
      },
      {
       "metadata": {},
       "output_type": "pyout",
       "prompt_number": 5,
       "text": [
        "<nose.result.TextTestResult run=1 errors=0 failures=1>"
       ]
      }
     ],
     "prompt_number": 5
    },
    {
     "cell_type": "code",
     "collapsed": false,
     "input": [],
     "language": "python",
     "metadata": {},
     "outputs": []
    },
    {
     "cell_type": "code",
     "collapsed": false,
     "input": [],
     "language": "python",
     "metadata": {},
     "outputs": []
    },
    {
     "cell_type": "code",
     "collapsed": false,
     "input": [],
     "language": "python",
     "metadata": {},
     "outputs": []
    },
    {
     "cell_type": "code",
     "collapsed": false,
     "input": [
      "\n",
      "import sys\n",
      "import unittest\n",
      "import logging\n",
      "\n",
      "logger = logging.getLogger()\n",
      "logger.level = logging.DEBUG\n",
      "stream_handler = logging.StreamHandler(sys.stdout)\n",
      "logger.addHandler(stream_handler)\n",
      "\n",
      "TextTestRunner().run(suite1)\n",
      "logger.removeHandler(stream_handler)    \n",
      "\n"
     ],
     "language": "python",
     "metadata": {},
     "outputs": [
      {
       "output_type": "stream",
       "stream": "stderr",
       "text": [
        "F"
       ]
      },
      {
       "output_type": "stream",
       "stream": "stderr",
       "text": [
        "\n",
        "======================================================================\n",
        "FAIL: test_03_faildiquesi (test_trivial01.TrivialTestCase)\n",
        "----------------------------------------------------------------------\n",
        "Traceback (most recent call last):\n",
        "  File \"/home/marcial/repos/flask_docker/src_panic_app/panic/tests/noses/trivial_tests/test_trivial01.py\", line 15, in test_03_faildiquesi\n",
        "    assert \"diqueSI\" == \"diquesi\"\n",
        "AssertionError\n",
        "\n",
        "----------------------------------------------------------------------\n",
        "Ran 1 test in 0.001s\n",
        "\n",
        "FAILED (failures=1)\n"
       ]
      }
     ],
     "prompt_number": 2
    },
    {
     "cell_type": "code",
     "collapsed": false,
     "input": [
      "stream_handler.stream.getvalue()"
     ],
     "language": "python",
     "metadata": {},
     "outputs": [
      {
       "metadata": {},
       "output_type": "pyout",
       "prompt_number": 12,
       "text": [
        "''"
       ]
      }
     ],
     "prompt_number": 12
    },
    {
     "cell_type": "code",
     "collapsed": false,
     "input": [
      "stream_handler.stream.len"
     ],
     "language": "python",
     "metadata": {},
     "outputs": [
      {
       "metadata": {},
       "output_type": "pyout",
       "prompt_number": 3,
       "text": [
        "0"
       ]
      }
     ],
     "prompt_number": 3
    },
    {
     "cell_type": "code",
     "collapsed": false,
     "input": [],
     "language": "python",
     "metadata": {},
     "outputs": [],
     "prompt_number": 13
    },
    {
     "cell_type": "code",
     "collapsed": false,
     "input": [],
     "language": "python",
     "metadata": {},
     "outputs": []
    },
    {
     "cell_type": "code",
     "collapsed": false,
     "input": [],
     "language": "python",
     "metadata": {},
     "outputs": []
    },
    {
     "cell_type": "code",
     "collapsed": false,
     "input": [
      "import re\n",
      "import subprocess\n",
      "from pexpect import spawn, ExceptionPexpect"
     ],
     "language": "python",
     "metadata": {},
     "outputs": [],
     "prompt_number": 21
    },
    {
     "cell_type": "code",
     "collapsed": false,
     "input": [
      "command = 'ls -al ..'"
     ],
     "language": "python",
     "metadata": {},
     "outputs": [],
     "prompt_number": 40
    },
    {
     "cell_type": "code",
     "collapsed": false,
     "input": [
      "try:\n",
      "    output = \"\".join(spawn(command, timeout=None))\n",
      "except ExceptionPexpect as e:\n",
      "    output = str(e)\n"
     ],
     "language": "python",
     "metadata": {},
     "outputs": [],
     "prompt_number": 41
    },
    {
     "cell_type": "code",
     "collapsed": false,
     "input": [
      "output"
     ],
     "language": "python",
     "metadata": {},
     "outputs": [
      {
       "metadata": {},
       "output_type": "pyout",
       "prompt_number": 42,
       "text": [
        "'total 1588\\r\\ndrwxrwxr-x  4 marcial marcial    4096 ene  3 21:09 .\\r\\ndrwxr-xr-x 49 marcial marcial    4096 ene  1 22:21 ..\\r\\n-rw-rw-r--  1 marcial marcial       0 sep 18 19:51 er\\r\\ndrwxrwxr-x  3 marcial marcial    4096 ene  4 13:17 notebook\\r\\ndrwxrwxrwx  5 marcial marcial   12288 oct  7  2012 pygtk2tutorial\\r\\n-rw-r-----  1 marcial marcial 1498628 oct 14 19:14 pygtk2tutorial.tgz\\r\\n-rw-r-----  1 marcial marcial    3654 sep 20 11:36 reaally.pkcs\\r\\n-rw-r-----  1 marcial marcial    2314 sep 20 13:30 reallygoodneighbours\\r\\n-rw-r-----  1 marcial marcial    2284 sep 21 18:45 startssl_marcialemilio_gmail.com\\r\\n-rw-rw-r--  1 marcial marcial   82262 nov  6 22:29 thomas.jpg\\r\\n'"
       ]
      }
     ],
     "prompt_number": 42
    },
    {
     "cell_type": "code",
     "collapsed": false,
     "input": [
      "pprint( output)"
     ],
     "language": "python",
     "metadata": {},
     "outputs": [],
     "prompt_number": 43
    },
    {
     "cell_type": "code",
     "collapsed": false,
     "input": [],
     "language": "python",
     "metadata": {},
     "outputs": []
    }
   ],
   "metadata": {}
  }
 ]
}